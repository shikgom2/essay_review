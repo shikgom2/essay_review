{
 "cells": [
  {
   "cell_type": "markdown",
   "id": "8d3479d7",
   "metadata": {},
   "source": [
    "일반적인 CNN은 입력에 대해서 convolution filter을 filter size에 적용해 필터의 갯수가 곧 convolution layer의 channel 갯수가 된다.\n",
    "\n",
    "SqueezeNet에서는 채널 방향으로 global average pooling을 적용해 압축된 정보를 활용하여 중요한 채널이 활성화 할 수 있게 한다."
   ]
  }
 ],
 "metadata": {
  "kernelspec": {
   "display_name": "Python 3 (ipykernel)",
   "language": "python",
   "name": "python3"
  },
  "language_info": {
   "codemirror_mode": {
    "name": "ipython",
    "version": 3
   },
   "file_extension": ".py",
   "mimetype": "text/x-python",
   "name": "python",
   "nbconvert_exporter": "python",
   "pygments_lexer": "ipython3",
   "version": "3.7.8"
  }
 },
 "nbformat": 4,
 "nbformat_minor": 5
}
