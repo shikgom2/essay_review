{
 "cells": [
  {
   "cell_type": "markdown",
   "id": "018ad45f",
   "metadata": {},
   "source": [
    "원문 : https://arxiv.org/pdf/1707.07012.pdf\n",
    "http://solarisailab.com/archives/2691"
   ]
  },
  {
   "cell_type": "markdown",
   "id": "933c5297",
   "metadata": {},
   "source": [
    "# Neural Architecture Search"
   ]
  },
  {
   "cell_type": "markdown",
   "id": "999d7dea",
   "metadata": {},
   "source": [
    "우리가 딥러닝으로 문제를 풀기 위해 model의 parameter을 최적화해 왔듯이 model의 구조 자체로 최적화 할 수 없을까? 라고 생각하게 된다. \n",
    "\n",
    "NAS란 신경망을 사용해 model의 구조를 탐색하는 접근방법을 뜻한다.\n",
    "\n",
    "NAS"
   ]
  },
  {
   "cell_type": "code",
   "execution_count": null,
   "id": "9865387d",
   "metadata": {},
   "outputs": [],
   "source": []
  },
  {
   "cell_type": "code",
   "execution_count": null,
   "id": "19b6d8f1",
   "metadata": {},
   "outputs": [],
   "source": []
  }
 ],
 "metadata": {
  "kernelspec": {
   "display_name": "Python 3 (ipykernel)",
   "language": "python",
   "name": "python3"
  },
  "language_info": {
   "codemirror_mode": {
    "name": "ipython",
    "version": 3
   },
   "file_extension": ".py",
   "mimetype": "text/x-python",
   "name": "python",
   "nbconvert_exporter": "python",
   "pygments_lexer": "ipython3",
   "version": "3.7.8"
  }
 },
 "nbformat": 4,
 "nbformat_minor": 5
}
